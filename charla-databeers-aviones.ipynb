{
 "cells": [
  {
   "cell_type": "markdown",
   "metadata": {
    "slideshow": {
     "slide_type": "slide"
    }
   },
   "source": [
    "![trails](img/trails.jpg)"
   ]
  },
  {
   "cell_type": "markdown",
   "metadata": {
    "slideshow": {
     "slide_type": "notes"
    }
   },
   "source": [
    "Muchas gracias por venir. Me llamo Juan Luis Cano, es la segunda\n",
    "vez que hablo en DataBeers (y espero que esta vez no salte el\n",
    "protector de pantalla)."
   ]
  },
  {
   "cell_type": "markdown",
   "metadata": {
    "collapsed": true,
    "deletable": true,
    "editable": true,
    "slideshow": {
     "slide_type": "subslide"
    }
   },
   "source": []
  },
  {
   "cell_type": "markdown",
   "metadata": {
    "slideshow": {
     "slide_type": "notes"
    }
   },
   "source": [
    "Hoy vamos a hablar de un tema\n",
    "que ya sabéis que me encanta, que es el Big Data y de su\n",
    "impacto en la sociedad, pero aprovechando que el lunes pasado\n",
    "terminé la carrera, os propongo primero un viaje por otra de mis\n",
    "pasiones: la aeronáutica. Plegad vuestras bandejas, poned vuestros\n",
    "asientos en posición vertical y abrochaos los cinturones."
   ]
  },
  {
   "cell_type": "markdown",
   "metadata": {
    "collapsed": true,
    "deletable": true,
    "editable": true,
    "slideshow": {
     "slide_type": "subslide"
    }
   },
   "source": []
  },
  {
   "cell_type": "markdown",
   "metadata": {
    "deletable": true,
    "editable": true,
    "slideshow": {
     "slide_type": "notes"
    }
   },
   "source": [
    "La ciencia. Así, con C mayúscula. ¿Qué os sugiere? Es posible\n",
    "que a algunos de los que estáis aquí os atraiga (ojalá que a\n",
    "la mayoría), a otros os cause indiferencia y a otros incluso\n",
    "rechazo."
   ]
  },
  {
   "cell_type": "markdown",
   "metadata": {
    "collapsed": true,
    "deletable": true,
    "editable": true,
    "slideshow": {
     "slide_type": "subslide"
    }
   },
   "source": []
  },
  {
   "cell_type": "markdown",
   "metadata": {
    "deletable": true,
    "editable": true,
    "slideshow": {
     "slide_type": "notes"
    }
   },
   "source": [
    "Para aportar algún dato, anoche busqué en Google\n",
    "\"los españoles y la ciencia\" y el primer resultado era un reportaje\n",
    "de la revista Muy Interesate que decía que el 46 % de los españoles\n",
    "no es capaz de dar un solo nombre de un científico importante.\n",
    "Con estos número podría hacer la típica crítica fácil, citar a Unamuno\n",
    "con lo de «que inventen otros» y quedarme tan ancho, pero ¿qué pasa\n",
    "en las carreras técnicas?"
   ]
  },
  {
   "cell_type": "markdown",
   "metadata": {
    "collapsed": true,
    "deletable": true,
    "editable": true,
    "slideshow": {
     "slide_type": "subslide"
    }
   },
   "source": [
    "![Tensores](img/tensor.png)"
   ]
  },
  {
   "cell_type": "markdown",
   "metadata": {
    "deletable": true,
    "editable": true,
    "slideshow": {
     "slide_type": "notes"
    }
   },
   "source": [
    "Tengo una anécdota muy buena de la carrera, pero para contarla\n",
    "necesito romper una de las reglas de oro de Databeers,\n",
    "que es no poner ecuaciones en las presentaciones (lo\n",
    "exige la narrativa). Esta ecuación es lo más infumable que encontré\n",
    "en mis apuntes de geometría diferencial: no hace falta saber\n",
    "lo que es, solo quería enseñaros algo horrible."
   ]
  },
  {
   "cell_type": "markdown",
   "metadata": {
    "collapsed": true,
    "deletable": true,
    "editable": true,
    "slideshow": {
     "slide_type": "subslide"
    }
   },
   "source": []
  },
  {
   "cell_type": "markdown",
   "metadata": {
    "deletable": true,
    "editable": true,
    "slideshow": {
     "slide_type": "notes"
    }
   },
   "source": [
    "Mi profesor de Geometría Diferencial vino un día a clase\n",
    "indignado porque había escuchado a un compañero en la cafetería\n",
    "decir que los tensores, eso que aparece en la ecuación,\n",
    "era una bazofia. Y nos echó un discurso tremendo diciendo que\n",
    "los móviles, los GPS y otras mil cosas funcionaban gracias\n",
    "a los tensores, y que no éramos conscientes de la tecnología\n",
    "que manejábamos día a día."
   ]
  },
  {
   "cell_type": "markdown",
   "metadata": {
    "collapsed": true,
    "deletable": true,
    "editable": true,
    "slideshow": {
     "slide_type": "subslide"
    }
   },
   "source": []
  },
  {
   "cell_type": "markdown",
   "metadata": {
    "deletable": true,
    "editable": true,
    "slideshow": {
     "slide_type": "notes"
    }
   },
   "source": [
    "Pero es que de esto se trata, ¿no? Resulta que la belleza de\n",
    "la tecnología hoy en día es que cualquiera la puede utilizar,\n",
    "no hace falta ser Einstein para que Google Maps te guíe por\n",
    "una carretera por mucho que el GPS utilice álgebra tensorial\n",
    "y la teoría de la relatividad."
   ]
  },
  {
   "cell_type": "markdown",
   "metadata": {
    "collapsed": true,
    "deletable": true,
    "editable": true,
    "slideshow": {
     "slide_type": "subslide"
    }
   },
   "source": []
  },
  {
   "cell_type": "markdown",
   "metadata": {
    "deletable": true,
    "editable": true,
    "slideshow": {
     "slide_type": "notes"
    }
   },
   "source": [
    "Y esto me lleva a uno de los temas de la charla: los aviones.\n",
    "En Estados Unidos el 82 % de la población ha volado alguna\n",
    "vez en su vida, así que vamos a asumir que en Europa estará\n",
    "por el estilo. Igual que hemos comentado antes, no os hace\n",
    "falta saber cómo vuela un avión para transportaros en él,\n",
    "y esto esta perfecto. Pero ¿significa eso que entender\n",
    "cómo vuela un avión está fuera del alcance del público?"
   ]
  },
  {
   "cell_type": "markdown",
   "metadata": {
    "collapsed": true,
    "deletable": true,
    "editable": true,
    "slideshow": {
     "slide_type": "subslide"
    }
   },
   "source": [
    "![Aviones](img/planes.gif)"
   ]
  },
  {
   "cell_type": "markdown",
   "metadata": {
    "deletable": true,
    "editable": true,
    "slideshow": {
     "slide_type": "notes"
    }
   },
   "source": [
    "Aquí es donde tenemos el debate mis compañeros y yo. Según\n",
    "ellos, para entender cómo vuela un avión no queda más remedio\n",
    "que estudiar la carrera de aeronáutica, ponerse morado de\n",
    "álgebra tensorial, termodinámica y mecánica de fluidos y al\n",
    "final llegar a la iluminación. Un camino un poco tortuoso,\n",
    "tengo que decir."
   ]
  },
  {
   "cell_type": "markdown",
   "metadata": {
    "collapsed": true,
    "deletable": true,
    "editable": true,
    "slideshow": {
     "slide_type": "subslide"
    }
   },
   "source": []
  },
  {
   "cell_type": "markdown",
   "metadata": {
    "deletable": true,
    "editable": true,
    "slideshow": {
     "slide_type": "notes"
    }
   },
   "source": [
    "\n",
    "Sin embargo, para mí es perfectamente posible para cualquier\n",
    "persona entender, aunque sea de manera intuitiva, aquello\n",
    "que se puede observar a simple vista. No tenemos intuición\n",
    "sobre la mecánica cuántica, porque es invisible, ni sobre\n",
    "el Universo, porque es inabarcable, pero sobre algo macroscópico,\n",
    "palpable, como un avión, ¿por qué no?"
   ]
  },
  {
   "cell_type": "markdown",
   "metadata": {
    "collapsed": true,
    "deletable": true,
    "editable": true,
    "slideshow": {
     "slide_type": "subslide"
    }
   },
   "source": []
  },
  {
   "cell_type": "markdown",
   "metadata": {
    "deletable": true,
    "editable": true,
    "slideshow": {
     "slide_type": "notes"
    }
   },
   "source": [
    "Entender el mundo.\n",
    "\n",
    "Y hablando de cosas que están muy presentes\n",
    "en nuestra vida y que el público general no termina de entender,\n",
    "¿se os ocurre alguna más?"
   ]
  },
  {
   "cell_type": "markdown",
   "metadata": {
    "collapsed": true,
    "deletable": true,
    "editable": true,
    "slideshow": {
     "slide_type": "subslide"
    }
   },
   "source": []
  },
  {
   "cell_type": "markdown",
   "metadata": {
    "deletable": true,
    "editable": true,
    "slideshow": {
     "slide_type": "notes"
    }
   },
   "source": [
    "Big Data. ¿Qué os sugiere? Posiblemente os resulte más familiar\n",
    "que el vuelo de los aviones, pero en realidad hay muchas definiciones\n",
    "de lo que es Big Data y no nos terminamos de poner de acuerdo.\n",
    "¿Son las 3 Vs de Gartner, son 7, es Hadoop, es\n",
    "noSQL, Hadoop ha muerto?"
   ]
  },
  {
   "cell_type": "markdown",
   "metadata": {
    "collapsed": true,
    "deletable": true,
    "editable": true,
    "slideshow": {
     "slide_type": "subslide"
    }
   },
   "source": [
    "> *\"Big data\" [is] the amassing of huge amounts of statistical\n",
    "> information on social and economic trends and human behavior.*\n",
    "\n",
    "https://medium.com/@hannawallach/big-data-machine-learning-and-the-social-sciences-927a8e20460d#.vgbd8tcqp"
   ]
  },
  {
   "cell_type": "markdown",
   "metadata": {
    "deletable": true,
    "editable": true,
    "slideshow": {
     "slide_type": "notes"
    }
   },
   "source": [
    "De todas las definiciones de lo que es Big Data, las que para mí\n",
    "mejor captura su significado es esta:\n",
    "\n",
    "> \"Big data\" [is] the amassing of huge amounts of statistical\n",
    "> information on social and economic trends and human behavior.\n",
    "\n",
    "Esta es la diferencia clave: datos sobre comportamiento humano\n",
    "con una granularidad muy fina"
   ]
  },
  {
   "cell_type": "markdown",
   "metadata": {
    "collapsed": true,
    "deletable": true,
    "editable": true,
    "slideshow": {
     "slide_type": "subslide"
    }
   },
   "source": []
  },
  {
   "cell_type": "markdown",
   "metadata": {
    "deletable": true,
    "editable": true,
    "slideshow": {
     "slide_type": "notes"
    }
   },
   "source": [
    "Pero estamos de acuerdo en que desde el punto de vista del público\n",
    "no hace falta ser Data Scientist\n",
    "ni Data Architect para disfrutar de las ventajas del Big Data,\n",
    "podemos comprar en Amazon y nos recomendará artículos, bla bla"
   ]
  },
  {
   "cell_type": "markdown",
   "metadata": {
    "collapsed": true,
    "deletable": true,
    "editable": true,
    "slideshow": {
     "slide_type": "subslide"
    }
   },
   "source": []
  },
  {
   "cell_type": "markdown",
   "metadata": {
    "deletable": true,
    "editable": true,
    "slideshow": {
     "slide_type": "notes"
    }
   },
   "source": [
    "Desconfianz"
   ]
  },
  {
   "cell_type": "markdown",
   "metadata": {
    "collapsed": true,
    "deletable": true,
    "editable": true,
    "slideshow": {
     "slide_type": "subslide"
    }
   },
   "source": []
  },
  {
   "cell_type": "markdown",
   "metadata": {
    "deletable": true,
    "editable": true,
    "slideshow": {
     "slide_type": "notes"
    }
   },
   "source": [
    "La transformación digital"
   ]
  },
  {
   "cell_type": "markdown",
   "metadata": {
    "collapsed": true,
    "deletable": true,
    "editable": true,
    "slideshow": {
     "slide_type": "subslide"
    }
   },
   "source": []
  },
  {
   "cell_type": "markdown",
   "metadata": {
    "deletable": true,
    "editable": true,
    "slideshow": {
     "slide_type": "notes"
    }
   },
   "source": [
    "No son Data Scientists"
   ]
  },
  {
   "cell_type": "markdown",
   "metadata": {
    "collapsed": true,
    "deletable": true,
    "editable": true,
    "slideshow": {
     "slide_type": "subslide"
    }
   },
   "source": []
  },
  {
   "cell_type": "markdown",
   "metadata": {
    "deletable": true,
    "editable": true,
    "slideshow": {
     "slide_type": "notes"
    }
   },
   "source": [
    "Pero tienen que entender"
   ]
  },
  {
   "cell_type": "markdown",
   "metadata": {
    "collapsed": true,
    "deletable": true,
    "editable": true,
    "slideshow": {
     "slide_type": "subslide"
    }
   },
   "source": []
  },
  {
   "cell_type": "markdown",
   "metadata": {
    "deletable": true,
    "editable": true,
    "slideshow": {
     "slide_type": "notes"
    }
   },
   "source": [
    "Conclusión"
   ]
  },
  {
   "cell_type": "markdown",
   "metadata": {
    "collapsed": true,
    "deletable": true,
    "editable": true,
    "slideshow": {
     "slide_type": "subslide"
    }
   },
   "source": [
    "![Intro Flight](img/intro-flight.jpg)"
   ]
  },
  {
   "cell_type": "markdown",
   "metadata": {
    "deletable": true,
    "editable": true,
    "slideshow": {
     "slide_type": "notes"
    }
   },
   "source": [
    "Mientras tanto, os puedo dar una explicación razonablemente correcta\n",
    "de cómo vuela un avión utilizando únicamente una servilleta\n",
    "y una pajita. Así, la próxima vez que voléis, podréis mirar\n",
    "por la ventana con mucha más seguridad y de paso fardar un\n",
    "poco con la persona de al lado. Lo único que os voy a pedir\n",
    "a cambio es que me invitéis a una buena cerveza."
   ]
  },
  {
   "cell_type": "markdown",
   "metadata": {
    "collapsed": true,
    "deletable": true,
    "editable": true,
    "slideshow": {
     "slide_type": "subslide"
    }
   },
   "source": [
    "## hello@juanlu.space\n",
    "## @Pybonacci"
   ]
  },
  {
   "cell_type": "markdown",
   "metadata": {
    "deletable": true,
    "editable": true,
    "slideshow": {
     "slide_type": "notes"
    }
   },
   "source": [
    "Muchas gracias"
   ]
  }
 ],
 "metadata": {
  "celltoolbar": "Slideshow",
  "kernelspec": {
   "display_name": "Python 3",
   "language": "python",
   "name": "python3"
  },
  "language_info": {
   "codemirror_mode": {
    "name": "ipython",
    "version": 3
   },
   "file_extension": ".py",
   "mimetype": "text/x-python",
   "name": "python",
   "nbconvert_exporter": "python",
   "pygments_lexer": "ipython3",
   "version": "3.6.0"
  }
 },
 "nbformat": 4,
 "nbformat_minor": 2
}
